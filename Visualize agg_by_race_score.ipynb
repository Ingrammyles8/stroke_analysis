{
 "cells": [
  {
   "cell_type": "code",
   "execution_count": null,
   "metadata": {},
   "outputs": [],
   "source": [
    "import data_io\n",
    "import pandas as pd\n",
    "import matplotlib.pyplot as plt\n",
    "import parameters as param\n",
    "import numpy as np"
   ]
  },
  {
   "cell_type": "markdown",
   "metadata": {},
   "source": [
    "Load files"
   ]
  },
  {
   "cell_type": "code",
   "execution_count": null,
   "metadata": {},
   "outputs": [],
   "source": [
    "upper = 1\n",
    "agg_markov_l=[]\n",
    "for time_since_symptoms in range(param.SYMP_MIN, param.SYMP_MAX + upper, 10):\n",
    "    for race in range(param.RACE_MIN, param.RACE_MAX + upper):\n",
    "        agg_markov_name = data_io.BASIC_ANALYSIS_OUTPUT / param.build_filename_prefix(\n",
    "            time_since_symptoms=time_since_symptoms,\n",
    "            race=race,\n",
    "            suffix='_aggregated_markov_changes',\n",
    "            format='.xlsx')\n",
    "        print(agg_markov_name)\n",
    "        agg_markov = pd.read_excel(agg_markov_name)\n",
    "        agg_markov_l.append(agg_markov)\n",
    "\n",
    "agg_markov_total = pd.concat(agg_markov_l)"
   ]
  },
  {
   "cell_type": "markdown",
   "metadata": {},
   "source": [
    "## BOXPLOT"
   ]
  },
  {
   "cell_type": "code",
   "execution_count": null,
   "metadata": {},
   "outputs": [],
   "source": [
    "fig, ax = plt.subplots(figsize=(15,10))\n",
    "(agg_markov_total.pivot(columns='RACE',values='QALYdiff_af')*365).boxplot(ax=ax,sym='+')\n",
    "plt.title('Generic chooses hospital A, Revised chooses hospital B')\n",
    "plt.xlabel('RACE score')\n",
    "plt.ylabel('Quality adjusted days difference \\nwhen going to hospital B instead of hospital A according to revised model')\n",
    "plt.tight_layout()\n",
    "fig.savefig(data_io.GRAPH_OUTPUT/'trend_by_race_score.png',dpi=500)"
   ]
  },
  {
   "cell_type": "code",
   "execution_count": null,
   "metadata": {},
   "outputs": [],
   "source": [
    "def extract_type(val):\n",
    "    return val.split(' ')[1].replace('(', '').replace(')', '')\n",
    "\n",
    "\n",
    "def change_type(df):\n",
    "    return extract_type(df.BestCenter_be) + ' to ' + extract_type(\n",
    "        df.BestCenter_af)\n",
    "\n",
    "agg_markov_total['ChangeType'] = agg_markov.apply(change_type, axis=1)"
   ]
  },
  {
   "cell_type": "code",
   "execution_count": null,
   "metadata": {},
   "outputs": [],
   "source": [
    "gb = agg_markov_total.groupby(['ChangeType'])\n",
    "fig, axs = plt.subplots(1,4,figsize=(17,10),sharex=True,sharey=True)\n",
    "axs = axs.flatten()\n",
    "for i,(gn,g) in enumerate(gb):\n",
    "    (g.pivot(columns='RACE',values='QALYdiff_af')*365).boxplot(ax=axs[i],sym='+')\n",
    "    axs[i].set_title(gn)\n",
    "    if i ==0 : axs[i].set_ylabel('Quality adjusted days difference \\nwhen going to hospital B instead of hospital A according to revised model')\n",
    "fig.suptitle('Generic chooses hospital A, Revised chooses hospital B')\n",
    "fig.savefig(data_io.GRAPH_OUTPUT/'trend_by_race_score_type_breakdown.png',dpi=500)"
   ]
  },
  {
   "cell_type": "markdown",
   "metadata": {},
   "source": [
    "## HISTOGRAM"
   ]
  },
  {
   "cell_type": "code",
   "execution_count": null,
   "metadata": {},
   "outputs": [],
   "source": [
    "fig,axs=plt.subplots(5,2,sharex=True,sharey=True,figsize=(15,10))\n",
    "axs=axs.flatten()\n",
    "axs[4].set_ylabel('Frequency')\n",
    "axs[8].set_xlabel('QALYdiff')\n",
    "axs[9].set_xlabel('QALYdiff')\n",
    "fig.suptitle('Histogram of QALYdiff_af in days\\nout of 10k patient locations')\n",
    "for i,(gn, g) in enumerate(agg_markov_total.groupby('RACE')):\n",
    "    (g['QALYdiff_af']*365).hist(ax=axs[i],bins=np.arange(0,0.2*365,0.0025*365),edgecolor='black')\n",
    "    axs[i].set_xlabel(gn)\n",
    "# plt.tight_layout()\n",
    "fig.savefig(data_io.GRAPH_OUTPUT/'histogram_by_race_score.png',dpi=500)"
   ]
  },
  {
   "cell_type": "code",
   "execution_count": null,
   "metadata": {},
   "outputs": [],
   "source": []
  }
 ],
 "metadata": {
  "kernelspec": {
   "display_name": "stroke_locations",
   "language": "python",
   "name": "stroke_locations"
  },
  "language_info": {
   "codemirror_mode": {
    "name": "ipython",
    "version": 3
   },
   "file_extension": ".py",
   "mimetype": "text/x-python",
   "name": "python",
   "nbconvert_exporter": "python",
   "pygments_lexer": "ipython3",
   "version": "3.7.4"
  }
 },
 "nbformat": 4,
 "nbformat_minor": 2
}
